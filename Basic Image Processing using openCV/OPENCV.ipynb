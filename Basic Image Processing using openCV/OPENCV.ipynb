{
 "cells": [
  {
   "cell_type": "code",
   "execution_count": 1,
   "metadata": {},
   "outputs": [
    {
     "name": "stdout",
     "output_type": "stream",
     "text": [
      "width:  317\n",
      "height:  159\n"
     ]
    },
    {
     "data": {
      "text/plain": [
       "-1"
      ]
     },
     "execution_count": 1,
     "metadata": {},
     "output_type": "execute_result"
    }
   ],
   "source": [
    "import cv2\n",
    "\n",
    "def resize(filename,width,height):\n",
    "    image = cv2.imread(filename)\n",
    "    cv2.imshow('Original image',image)\n",
    "    cv2.waitKey(0)\n",
    "    org_height , org_width = image.shape[0:2]\n",
    "    print(\"width: \",org_width)\n",
    "    print(\"height: \",org_height)\n",
    "\n",
    "    if org_width >= org_height:\n",
    "        new_image = cv2.resize(image,(width,height))\n",
    "    else:\n",
    "        new_image = cv2.resize(image,(height,width))\n",
    "\n",
    "    return filename,new_image\n",
    "\n",
    "filename,new_image = resize('bird.jpg',600,400)\n",
    "cv2.imshow('resized image',new_image)\n",
    "cv2.waitKey(0)"
   ]
  },
  {
   "cell_type": "code",
   "execution_count": 3,
   "metadata": {},
   "outputs": [],
   "source": [
    "def blurr(image):\n",
    "    kernals = [3,5,9,11]\n",
    "    for idx,k in enumerate(kernals):\n",
    "        new_img = cv2.blur(image,ksize = (k,k))\n",
    "        cv2.imshow(str(k),new_img)\n",
    "        cv2.waitKey(0)\n",
    "        \n",
    "blurr(new_image)\n",
    "        "
   ]
  },
  {
   "cell_type": "code",
   "execution_count": 2,
   "metadata": {},
   "outputs": [],
   "source": [
    "import numpy as np"
   ]
  },
  {
   "cell_type": "code",
   "execution_count": 3,
   "metadata": {},
   "outputs": [],
   "source": [
    "def sharpen(image):\n",
    "    kernel = np.array([[0,-1,0],[-1,5,-1],[0,-1,0]])\n",
    "    new_img = cv2.filter2D(image,-1,kernel)\n",
    "    cv2.imshow('sharpened_img',new_img)\n",
    "    cv2.waitKey()\n",
    "    return new_img\n",
    "    "
   ]
  },
  {
   "cell_type": "code",
   "execution_count": 4,
   "metadata": {},
   "outputs": [],
   "source": [
    "final_img = sharpen(new_image)"
   ]
  },
  {
   "cell_type": "code",
   "execution_count": 6,
   "metadata": {},
   "outputs": [],
   "source": [
    "import os\n",
    "import sys\n",
    "import fnmatch"
   ]
  },
  {
   "cell_type": "code",
   "execution_count": 9,
   "metadata": {},
   "outputs": [
    {
     "name": "stdout",
     "output_type": "stream",
     "text": [
      "width:  317\n",
      "height:  159\n",
      "width:  1000\n",
      "height:  713\n",
      "width:  318\n",
      "height:  159\n",
      "width:  299\n",
      "height:  168\n"
     ]
    }
   ],
   "source": [
    "listOfFiles = os.listdir('.')\n",
    "pattern = \"*.jpg\"\n",
    "# n = len(sys.argv)\n",
    "# if n == 3:\n",
    "#     width = int(float(sys.argv[1]))\n",
    "#     height = int(float(sys.argv[2]))\n",
    "# else:\n",
    "#     width = 600\n",
    "#     height = 400\n",
    "    \n",
    "if not os.path.exists('new_folder'):\n",
    "    os.makedirs('new_folder')\n",
    "    \n",
    "for filename in listOfFiles:\n",
    "    if fnmatch.fnmatch(filename,pattern):\n",
    "        filename,new_img = resize(filename,400,600)\n",
    "        cv2.imwrite(\"new_folder\\\\\"+filename,new_img)"
   ]
  },
  {
   "cell_type": "code",
   "execution_count": null,
   "metadata": {},
   "outputs": [],
   "source": []
  }
 ],
 "metadata": {
  "kernelspec": {
   "display_name": "Python 3",
   "language": "python",
   "name": "python3"
  },
  "language_info": {
   "codemirror_mode": {
    "name": "ipython",
    "version": 3
   },
   "file_extension": ".py",
   "mimetype": "text/x-python",
   "name": "python",
   "nbconvert_exporter": "python",
   "pygments_lexer": "ipython3",
   "version": "3.7.6"
  }
 },
 "nbformat": 4,
 "nbformat_minor": 4
}
